{
 "cells": [
  {
   "cell_type": "code",
   "execution_count": 1,
   "metadata": {},
   "outputs": [],
   "source": [
    "import pandas as pd"
   ]
  },
  {
   "cell_type": "code",
   "execution_count": 2,
   "metadata": {},
   "outputs": [],
   "source": [
    "with open(\"airquality.csv\") as f:\n",
    "    airquality = pd.read_csv(\"airquality.csv\").convert_dtypes()"
   ]
  },
  {
   "cell_type": "code",
   "execution_count": 3,
   "metadata": {},
   "outputs": [
    {
     "data": {
      "text/html": [
       "<style  type=\"text/css\" >\n",
       "</style><table id=\"T_07e058ac_3016_11eb_b001_d07e35e8135d\" ><thead>    <tr>        <th class=\"col_heading level0 col0\" >Ozone</th>        <th class=\"col_heading level0 col1\" >Solar.R</th>        <th class=\"col_heading level0 col2\" >Wind</th>        <th class=\"col_heading level0 col3\" >Temp</th>        <th class=\"col_heading level0 col4\" >Month</th>        <th class=\"col_heading level0 col5\" >Day</th>    </tr></thead><tbody>\n",
       "                <tr>\n",
       "                                <td id=\"T_07e058ac_3016_11eb_b001_d07e35e8135drow0_col0\" class=\"data row0 col0\" >41</td>\n",
       "                        <td id=\"T_07e058ac_3016_11eb_b001_d07e35e8135drow0_col1\" class=\"data row0 col1\" >190</td>\n",
       "                        <td id=\"T_07e058ac_3016_11eb_b001_d07e35e8135drow0_col2\" class=\"data row0 col2\" >7.400000</td>\n",
       "                        <td id=\"T_07e058ac_3016_11eb_b001_d07e35e8135drow0_col3\" class=\"data row0 col3\" >67</td>\n",
       "                        <td id=\"T_07e058ac_3016_11eb_b001_d07e35e8135drow0_col4\" class=\"data row0 col4\" >5</td>\n",
       "                        <td id=\"T_07e058ac_3016_11eb_b001_d07e35e8135drow0_col5\" class=\"data row0 col5\" >1</td>\n",
       "            </tr>\n",
       "            <tr>\n",
       "                                <td id=\"T_07e058ac_3016_11eb_b001_d07e35e8135drow1_col0\" class=\"data row1 col0\" >36</td>\n",
       "                        <td id=\"T_07e058ac_3016_11eb_b001_d07e35e8135drow1_col1\" class=\"data row1 col1\" >118</td>\n",
       "                        <td id=\"T_07e058ac_3016_11eb_b001_d07e35e8135drow1_col2\" class=\"data row1 col2\" >8.000000</td>\n",
       "                        <td id=\"T_07e058ac_3016_11eb_b001_d07e35e8135drow1_col3\" class=\"data row1 col3\" >72</td>\n",
       "                        <td id=\"T_07e058ac_3016_11eb_b001_d07e35e8135drow1_col4\" class=\"data row1 col4\" >5</td>\n",
       "                        <td id=\"T_07e058ac_3016_11eb_b001_d07e35e8135drow1_col5\" class=\"data row1 col5\" >2</td>\n",
       "            </tr>\n",
       "            <tr>\n",
       "                                <td id=\"T_07e058ac_3016_11eb_b001_d07e35e8135drow2_col0\" class=\"data row2 col0\" >12</td>\n",
       "                        <td id=\"T_07e058ac_3016_11eb_b001_d07e35e8135drow2_col1\" class=\"data row2 col1\" >149</td>\n",
       "                        <td id=\"T_07e058ac_3016_11eb_b001_d07e35e8135drow2_col2\" class=\"data row2 col2\" >12.600000</td>\n",
       "                        <td id=\"T_07e058ac_3016_11eb_b001_d07e35e8135drow2_col3\" class=\"data row2 col3\" >74</td>\n",
       "                        <td id=\"T_07e058ac_3016_11eb_b001_d07e35e8135drow2_col4\" class=\"data row2 col4\" >5</td>\n",
       "                        <td id=\"T_07e058ac_3016_11eb_b001_d07e35e8135drow2_col5\" class=\"data row2 col5\" >3</td>\n",
       "            </tr>\n",
       "            <tr>\n",
       "                                <td id=\"T_07e058ac_3016_11eb_b001_d07e35e8135drow3_col0\" class=\"data row3 col0\" >18</td>\n",
       "                        <td id=\"T_07e058ac_3016_11eb_b001_d07e35e8135drow3_col1\" class=\"data row3 col1\" >313</td>\n",
       "                        <td id=\"T_07e058ac_3016_11eb_b001_d07e35e8135drow3_col2\" class=\"data row3 col2\" >11.500000</td>\n",
       "                        <td id=\"T_07e058ac_3016_11eb_b001_d07e35e8135drow3_col3\" class=\"data row3 col3\" >62</td>\n",
       "                        <td id=\"T_07e058ac_3016_11eb_b001_d07e35e8135drow3_col4\" class=\"data row3 col4\" >5</td>\n",
       "                        <td id=\"T_07e058ac_3016_11eb_b001_d07e35e8135drow3_col5\" class=\"data row3 col5\" >4</td>\n",
       "            </tr>\n",
       "            <tr>\n",
       "                                <td id=\"T_07e058ac_3016_11eb_b001_d07e35e8135drow4_col0\" class=\"data row4 col0\" ><NA></td>\n",
       "                        <td id=\"T_07e058ac_3016_11eb_b001_d07e35e8135drow4_col1\" class=\"data row4 col1\" ><NA></td>\n",
       "                        <td id=\"T_07e058ac_3016_11eb_b001_d07e35e8135drow4_col2\" class=\"data row4 col2\" >14.300000</td>\n",
       "                        <td id=\"T_07e058ac_3016_11eb_b001_d07e35e8135drow4_col3\" class=\"data row4 col3\" >56</td>\n",
       "                        <td id=\"T_07e058ac_3016_11eb_b001_d07e35e8135drow4_col4\" class=\"data row4 col4\" >5</td>\n",
       "                        <td id=\"T_07e058ac_3016_11eb_b001_d07e35e8135drow4_col5\" class=\"data row4 col5\" >5</td>\n",
       "            </tr>\n",
       "    </tbody></table>"
      ],
      "text/plain": [
       "<pandas.io.formats.style.Styler at 0x1fac6b419a0>"
      ]
     },
     "execution_count": 3,
     "metadata": {},
     "output_type": "execute_result"
    }
   ],
   "source": [
    "(\n",
    "    airquality.head()\n",
    "    .style.hide_index()\n",
    ")"
   ]
  },
  {
   "cell_type": "code",
   "execution_count": 4,
   "metadata": {},
   "outputs": [
    {
     "name": "stdout",
     "output_type": "stream",
     "text": [
      "<class 'pandas.core.frame.DataFrame'>\n",
      "RangeIndex: 153 entries, 0 to 152\n",
      "Data columns (total 6 columns):\n",
      " #   Column   Non-Null Count  Dtype  \n",
      "---  ------   --------------  -----  \n",
      " 0   Ozone    116 non-null    Int64  \n",
      " 1   Solar.R  146 non-null    Int64  \n",
      " 2   Wind     153 non-null    float64\n",
      " 3   Temp     153 non-null    Int64  \n",
      " 4   Month    153 non-null    Int64  \n",
      " 5   Day      153 non-null    Int64  \n",
      "dtypes: Int64(5), float64(1)\n",
      "memory usage: 8.0 KB\n"
     ]
    }
   ],
   "source": [
    "airquality.info()"
   ]
  },
  {
   "cell_type": "markdown",
   "metadata": {},
   "source": [
    "### Prueba\n",
    "\n",
    "Esto es una prueba realizar por GMR para ver si deja hacer push en un repositorio de otro usuario."
   ]
  },
  {
   "cell_type": "code",
   "execution_count": null,
   "metadata": {},
   "outputs": [],
   "source": []
  }
 ],
 "metadata": {
  "kernelspec": {
   "display_name": "Python 3",
   "language": "python",
   "name": "python3"
  },
  "toc": {
   "base_numbering": 1,
   "nav_menu": {},
   "number_sections": true,
   "sideBar": true,
   "skip_h1_title": false,
   "title_cell": "Table of Contents",
   "title_sidebar": "Contents",
   "toc_cell": false,
   "toc_position": {},
   "toc_section_display": true,
   "toc_window_display": false
  },
  "varInspector": {
   "cols": {
    "lenName": 16,
    "lenType": 16,
    "lenVar": 40
   },
   "kernels_config": {
    "python": {
     "delete_cmd_postfix": "",
     "delete_cmd_prefix": "del ",
     "library": "var_list.py",
     "varRefreshCmd": "print(var_dic_list())"
    },
    "r": {
     "delete_cmd_postfix": ") ",
     "delete_cmd_prefix": "rm(",
     "library": "var_list.r",
     "varRefreshCmd": "cat(var_dic_list()) "
    }
   },
   "types_to_exclude": [
    "module",
    "function",
    "builtin_function_or_method",
    "instance",
    "_Feature"
   ],
   "window_display": false
  }
 },
 "nbformat": 4,
 "nbformat_minor": 2
}
