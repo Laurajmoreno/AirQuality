{
 "cells": [
  {
   "cell_type": "code",
   "execution_count": 2,
   "metadata": {},
   "outputs": [],
   "source": [
    "import pandas as pd"
   ]
  },
  {
   "cell_type": "code",
   "execution_count": 3,
   "metadata": {},
   "outputs": [],
   "source": [
    "with open(\"airquality.csv\") as f:\n",
    "    airquality = pd.read_csv(\"airquality.csv\").convert_dtypes()"
   ]
  },
  {
   "cell_type": "code",
   "execution_count": 4,
   "metadata": {},
   "outputs": [
    {
     "data": {
      "text/html": [
       "<style  type=\"text/css\" >\n",
       "</style><table id=\"T_6547ac0a_30ad_11eb_9664_887873777c6f\" ><thead>    <tr>        <th class=\"col_heading level0 col0\" >Ozone</th>        <th class=\"col_heading level0 col1\" >Solar.R</th>        <th class=\"col_heading level0 col2\" >Wind</th>        <th class=\"col_heading level0 col3\" >Temp</th>        <th class=\"col_heading level0 col4\" >Month</th>        <th class=\"col_heading level0 col5\" >Day</th>    </tr></thead><tbody>\n",
       "                <tr>\n",
       "                                <td id=\"T_6547ac0a_30ad_11eb_9664_887873777c6frow0_col0\" class=\"data row0 col0\" >41</td>\n",
       "                        <td id=\"T_6547ac0a_30ad_11eb_9664_887873777c6frow0_col1\" class=\"data row0 col1\" >190</td>\n",
       "                        <td id=\"T_6547ac0a_30ad_11eb_9664_887873777c6frow0_col2\" class=\"data row0 col2\" >7.400000</td>\n",
       "                        <td id=\"T_6547ac0a_30ad_11eb_9664_887873777c6frow0_col3\" class=\"data row0 col3\" >67</td>\n",
       "                        <td id=\"T_6547ac0a_30ad_11eb_9664_887873777c6frow0_col4\" class=\"data row0 col4\" >5</td>\n",
       "                        <td id=\"T_6547ac0a_30ad_11eb_9664_887873777c6frow0_col5\" class=\"data row0 col5\" >1</td>\n",
       "            </tr>\n",
       "            <tr>\n",
       "                                <td id=\"T_6547ac0a_30ad_11eb_9664_887873777c6frow1_col0\" class=\"data row1 col0\" >36</td>\n",
       "                        <td id=\"T_6547ac0a_30ad_11eb_9664_887873777c6frow1_col1\" class=\"data row1 col1\" >118</td>\n",
       "                        <td id=\"T_6547ac0a_30ad_11eb_9664_887873777c6frow1_col2\" class=\"data row1 col2\" >8.000000</td>\n",
       "                        <td id=\"T_6547ac0a_30ad_11eb_9664_887873777c6frow1_col3\" class=\"data row1 col3\" >72</td>\n",
       "                        <td id=\"T_6547ac0a_30ad_11eb_9664_887873777c6frow1_col4\" class=\"data row1 col4\" >5</td>\n",
       "                        <td id=\"T_6547ac0a_30ad_11eb_9664_887873777c6frow1_col5\" class=\"data row1 col5\" >2</td>\n",
       "            </tr>\n",
       "            <tr>\n",
       "                                <td id=\"T_6547ac0a_30ad_11eb_9664_887873777c6frow2_col0\" class=\"data row2 col0\" >12</td>\n",
       "                        <td id=\"T_6547ac0a_30ad_11eb_9664_887873777c6frow2_col1\" class=\"data row2 col1\" >149</td>\n",
       "                        <td id=\"T_6547ac0a_30ad_11eb_9664_887873777c6frow2_col2\" class=\"data row2 col2\" >12.600000</td>\n",
       "                        <td id=\"T_6547ac0a_30ad_11eb_9664_887873777c6frow2_col3\" class=\"data row2 col3\" >74</td>\n",
       "                        <td id=\"T_6547ac0a_30ad_11eb_9664_887873777c6frow2_col4\" class=\"data row2 col4\" >5</td>\n",
       "                        <td id=\"T_6547ac0a_30ad_11eb_9664_887873777c6frow2_col5\" class=\"data row2 col5\" >3</td>\n",
       "            </tr>\n",
       "            <tr>\n",
       "                                <td id=\"T_6547ac0a_30ad_11eb_9664_887873777c6frow3_col0\" class=\"data row3 col0\" >18</td>\n",
       "                        <td id=\"T_6547ac0a_30ad_11eb_9664_887873777c6frow3_col1\" class=\"data row3 col1\" >313</td>\n",
       "                        <td id=\"T_6547ac0a_30ad_11eb_9664_887873777c6frow3_col2\" class=\"data row3 col2\" >11.500000</td>\n",
       "                        <td id=\"T_6547ac0a_30ad_11eb_9664_887873777c6frow3_col3\" class=\"data row3 col3\" >62</td>\n",
       "                        <td id=\"T_6547ac0a_30ad_11eb_9664_887873777c6frow3_col4\" class=\"data row3 col4\" >5</td>\n",
       "                        <td id=\"T_6547ac0a_30ad_11eb_9664_887873777c6frow3_col5\" class=\"data row3 col5\" >4</td>\n",
       "            </tr>\n",
       "            <tr>\n",
       "                                <td id=\"T_6547ac0a_30ad_11eb_9664_887873777c6frow4_col0\" class=\"data row4 col0\" ><NA></td>\n",
       "                        <td id=\"T_6547ac0a_30ad_11eb_9664_887873777c6frow4_col1\" class=\"data row4 col1\" ><NA></td>\n",
       "                        <td id=\"T_6547ac0a_30ad_11eb_9664_887873777c6frow4_col2\" class=\"data row4 col2\" >14.300000</td>\n",
       "                        <td id=\"T_6547ac0a_30ad_11eb_9664_887873777c6frow4_col3\" class=\"data row4 col3\" >56</td>\n",
       "                        <td id=\"T_6547ac0a_30ad_11eb_9664_887873777c6frow4_col4\" class=\"data row4 col4\" >5</td>\n",
       "                        <td id=\"T_6547ac0a_30ad_11eb_9664_887873777c6frow4_col5\" class=\"data row4 col5\" >5</td>\n",
       "            </tr>\n",
       "    </tbody></table>"
      ],
      "text/plain": [
       "<pandas.io.formats.style.Styler at 0x1c1c3639f48>"
      ]
     },
     "execution_count": 4,
     "metadata": {},
     "output_type": "execute_result"
    }
   ],
   "source": [
    "(\n",
    "    airquality.head()\n",
    "    .style.hide_index()\n",
    ")"
   ]
  },
  {
   "cell_type": "code",
   "execution_count": 5,
   "metadata": {},
   "outputs": [
    {
     "name": "stdout",
     "output_type": "stream",
     "text": [
      "<class 'pandas.core.frame.DataFrame'>\n",
      "RangeIndex: 153 entries, 0 to 152\n",
      "Data columns (total 6 columns):\n",
      " #   Column   Non-Null Count  Dtype  \n",
      "---  ------   --------------  -----  \n",
      " 0   Ozone    116 non-null    Int64  \n",
      " 1   Solar.R  146 non-null    Int64  \n",
      " 2   Wind     153 non-null    float64\n",
      " 3   Temp     153 non-null    Int64  \n",
      " 4   Month    153 non-null    Int64  \n",
      " 5   Day      153 non-null    Int64  \n",
      "dtypes: Int64(5), float64(1)\n",
      "memory usage: 8.0 KB\n"
     ]
    }
   ],
   "source": [
    "airquality.info()"
   ]
  },
  {
   "cell_type": "markdown",
   "metadata": {},
   "source": [
    "### Prueba\n",
    "\n",
    "Esto es una prueba realizar por GMR para ver si deja hacer push en un repositorio de otro usuario."
   ]
  },
  {
   "cell_type": "markdown",
   "metadata": {},
   "source": [
    "#### Background_gradient Pandas"
   ]
  },
  {
   "cell_type": "code",
   "execution_count": 6,
   "metadata": {},
   "outputs": [
    {
     "data": {
      "text/html": [
       "<style  type=\"text/css\" >\n",
       "#T_6557dfba_30ad_11eb_b5c0_887873777c6frow0_col0{\n",
       "            background-color:  #f4eef6;\n",
       "            color:  #000000;\n",
       "        }#T_6557dfba_30ad_11eb_b5c0_887873777c6frow0_col1,#T_6557dfba_30ad_11eb_b5c0_887873777c6frow1_col1{\n",
       "            background-color:  #8b3005;\n",
       "            color:  #f1f1f1;\n",
       "        }#T_6557dfba_30ad_11eb_b5c0_887873777c6frow0_col2{\n",
       "            background-color:  #71a8ce;\n",
       "            color:  #000000;\n",
       "        }#T_6557dfba_30ad_11eb_b5c0_887873777c6frow0_col3{\n",
       "            background-color:  #ee7617;\n",
       "            color:  #000000;\n",
       "        }#T_6557dfba_30ad_11eb_b5c0_887873777c6frow1_col0{\n",
       "            background-color:  #a5bddb;\n",
       "            color:  #000000;\n",
       "        }#T_6557dfba_30ad_11eb_b5c0_887873777c6frow1_col2{\n",
       "            background-color:  #045e93;\n",
       "            color:  #f1f1f1;\n",
       "        }#T_6557dfba_30ad_11eb_b5c0_887873777c6frow1_col3{\n",
       "            background-color:  #e76b11;\n",
       "            color:  #000000;\n",
       "        }#T_6557dfba_30ad_11eb_b5c0_887873777c6frow2_col0{\n",
       "            background-color:  #dddbec;\n",
       "            color:  #000000;\n",
       "        }#T_6557dfba_30ad_11eb_b5c0_887873777c6frow2_col1{\n",
       "            background-color:  #de610c;\n",
       "            color:  #000000;\n",
       "        }#T_6557dfba_30ad_11eb_b5c0_887873777c6frow2_col2,#T_6557dfba_30ad_11eb_b5c0_887873777c6frow4_col2,#T_6557dfba_30ad_11eb_b5c0_887873777c6frow7_col2{\n",
       "            background-color:  #e5e1ef;\n",
       "            color:  #000000;\n",
       "        }#T_6557dfba_30ad_11eb_b5c0_887873777c6frow2_col3{\n",
       "            background-color:  #fee390;\n",
       "            color:  #000000;\n",
       "        }#T_6557dfba_30ad_11eb_b5c0_887873777c6frow3_col0,#T_6557dfba_30ad_11eb_b5c0_887873777c6frow5_col2{\n",
       "            background-color:  #fff7fb;\n",
       "            color:  #000000;\n",
       "        }#T_6557dfba_30ad_11eb_b5c0_887873777c6frow3_col1,#T_6557dfba_30ad_11eb_b5c0_887873777c6frow3_col3{\n",
       "            background-color:  #ffffe5;\n",
       "            color:  #000000;\n",
       "        }#T_6557dfba_30ad_11eb_b5c0_887873777c6frow3_col2,#T_6557dfba_30ad_11eb_b5c0_887873777c6frow7_col0{\n",
       "            background-color:  #023858;\n",
       "            color:  #f1f1f1;\n",
       "        }#T_6557dfba_30ad_11eb_b5c0_887873777c6frow4_col0{\n",
       "            background-color:  #a1bbda;\n",
       "            color:  #000000;\n",
       "        }#T_6557dfba_30ad_11eb_b5c0_887873777c6frow4_col1{\n",
       "            background-color:  #a33904;\n",
       "            color:  #f1f1f1;\n",
       "        }#T_6557dfba_30ad_11eb_b5c0_887873777c6frow4_col3{\n",
       "            background-color:  #f98d23;\n",
       "            color:  #000000;\n",
       "        }#T_6557dfba_30ad_11eb_b5c0_887873777c6frow5_col0{\n",
       "            background-color:  #056dab;\n",
       "            color:  #f1f1f1;\n",
       "        }#T_6557dfba_30ad_11eb_b5c0_887873777c6frow5_col1,#T_6557dfba_30ad_11eb_b5c0_887873777c6frow7_col3{\n",
       "            background-color:  #662506;\n",
       "            color:  #f1f1f1;\n",
       "        }#T_6557dfba_30ad_11eb_b5c0_887873777c6frow5_col3{\n",
       "            background-color:  #913204;\n",
       "            color:  #f1f1f1;\n",
       "        }#T_6557dfba_30ad_11eb_b5c0_887873777c6frow6_col0{\n",
       "            background-color:  #3d93c2;\n",
       "            color:  #000000;\n",
       "        }#T_6557dfba_30ad_11eb_b5c0_887873777c6frow6_col1{\n",
       "            background-color:  #892f05;\n",
       "            color:  #f1f1f1;\n",
       "        }#T_6557dfba_30ad_11eb_b5c0_887873777c6frow6_col2{\n",
       "            background-color:  #dbdaeb;\n",
       "            color:  #000000;\n",
       "        }#T_6557dfba_30ad_11eb_b5c0_887873777c6frow6_col3{\n",
       "            background-color:  #d55607;\n",
       "            color:  #000000;\n",
       "        }#T_6557dfba_30ad_11eb_b5c0_887873777c6frow7_col1{\n",
       "            background-color:  #f3801c;\n",
       "            color:  #000000;\n",
       "        }</style><table id=\"T_6557dfba_30ad_11eb_b5c0_887873777c6f\" ><thead>    <tr>        <th class=\"blank level0\" ></th>        <th class=\"col_heading level0 col0\" >Ozone</th>        <th class=\"col_heading level0 col1\" >Solar.R</th>        <th class=\"col_heading level0 col2\" >Wind</th>        <th class=\"col_heading level0 col3\" >Temp</th>        <th class=\"col_heading level0 col4\" >Month</th>        <th class=\"col_heading level0 col5\" >Day</th>    </tr></thead><tbody>\n",
       "                <tr>\n",
       "                        <th id=\"T_6557dfba_30ad_11eb_b5c0_887873777c6flevel0_row0\" class=\"row_heading level0 row0\" >129</th>\n",
       "                        <td id=\"T_6557dfba_30ad_11eb_b5c0_887873777c6frow0_col0\" class=\"data row0 col0\" >20</td>\n",
       "                        <td id=\"T_6557dfba_30ad_11eb_b5c0_887873777c6frow0_col1\" class=\"data row0 col1\" >252</td>\n",
       "                        <td id=\"T_6557dfba_30ad_11eb_b5c0_887873777c6frow0_col2\" class=\"data row0 col2\" >10.900000</td>\n",
       "                        <td id=\"T_6557dfba_30ad_11eb_b5c0_887873777c6frow0_col3\" class=\"data row0 col3\" >80</td>\n",
       "                        <td id=\"T_6557dfba_30ad_11eb_b5c0_887873777c6frow0_col4\" class=\"data row0 col4\" >9</td>\n",
       "                        <td id=\"T_6557dfba_30ad_11eb_b5c0_887873777c6frow0_col5\" class=\"data row0 col5\" >7</td>\n",
       "            </tr>\n",
       "            <tr>\n",
       "                        <th id=\"T_6557dfba_30ad_11eb_b5c0_887873777c6flevel0_row1\" class=\"row_heading level0 row1\" >28</th>\n",
       "                        <td id=\"T_6557dfba_30ad_11eb_b5c0_887873777c6frow1_col0\" class=\"data row1 col0\" >45</td>\n",
       "                        <td id=\"T_6557dfba_30ad_11eb_b5c0_887873777c6frow1_col1\" class=\"data row1 col1\" >252</td>\n",
       "                        <td id=\"T_6557dfba_30ad_11eb_b5c0_887873777c6frow1_col2\" class=\"data row1 col2\" >14.900000</td>\n",
       "                        <td id=\"T_6557dfba_30ad_11eb_b5c0_887873777c6frow1_col3\" class=\"data row1 col3\" >81</td>\n",
       "                        <td id=\"T_6557dfba_30ad_11eb_b5c0_887873777c6frow1_col4\" class=\"data row1 col4\" >5</td>\n",
       "                        <td id=\"T_6557dfba_30ad_11eb_b5c0_887873777c6frow1_col5\" class=\"data row1 col5\" >29</td>\n",
       "            </tr>\n",
       "            <tr>\n",
       "                        <th id=\"T_6557dfba_30ad_11eb_b5c0_887873777c6flevel0_row2\" class=\"row_heading level0 row2\" >148</th>\n",
       "                        <td id=\"T_6557dfba_30ad_11eb_b5c0_887873777c6frow2_col0\" class=\"data row2 col0\" >30</td>\n",
       "                        <td id=\"T_6557dfba_30ad_11eb_b5c0_887873777c6frow2_col1\" class=\"data row2 col1\" >193</td>\n",
       "                        <td id=\"T_6557dfba_30ad_11eb_b5c0_887873777c6frow2_col2\" class=\"data row2 col2\" >6.900000</td>\n",
       "                        <td id=\"T_6557dfba_30ad_11eb_b5c0_887873777c6frow2_col3\" class=\"data row2 col3\" >70</td>\n",
       "                        <td id=\"T_6557dfba_30ad_11eb_b5c0_887873777c6frow2_col4\" class=\"data row2 col4\" >9</td>\n",
       "                        <td id=\"T_6557dfba_30ad_11eb_b5c0_887873777c6frow2_col5\" class=\"data row2 col5\" >26</td>\n",
       "            </tr>\n",
       "            <tr>\n",
       "                        <th id=\"T_6557dfba_30ad_11eb_b5c0_887873777c6flevel0_row3\" class=\"row_heading level0 row3\" >147</th>\n",
       "                        <td id=\"T_6557dfba_30ad_11eb_b5c0_887873777c6frow3_col0\" class=\"data row3 col0\" >14</td>\n",
       "                        <td id=\"T_6557dfba_30ad_11eb_b5c0_887873777c6frow3_col1\" class=\"data row3 col1\" >20</td>\n",
       "                        <td id=\"T_6557dfba_30ad_11eb_b5c0_887873777c6frow3_col2\" class=\"data row3 col2\" >16.600000</td>\n",
       "                        <td id=\"T_6557dfba_30ad_11eb_b5c0_887873777c6frow3_col3\" class=\"data row3 col3\" >63</td>\n",
       "                        <td id=\"T_6557dfba_30ad_11eb_b5c0_887873777c6frow3_col4\" class=\"data row3 col4\" >9</td>\n",
       "                        <td id=\"T_6557dfba_30ad_11eb_b5c0_887873777c6frow3_col5\" class=\"data row3 col5\" >25</td>\n",
       "            </tr>\n",
       "            <tr>\n",
       "                        <th id=\"T_6557dfba_30ad_11eb_b5c0_887873777c6flevel0_row4\" class=\"row_heading level0 row4\" >138</th>\n",
       "                        <td id=\"T_6557dfba_30ad_11eb_b5c0_887873777c6frow4_col0\" class=\"data row4 col0\" >46</td>\n",
       "                        <td id=\"T_6557dfba_30ad_11eb_b5c0_887873777c6frow4_col1\" class=\"data row4 col1\" >237</td>\n",
       "                        <td id=\"T_6557dfba_30ad_11eb_b5c0_887873777c6frow4_col2\" class=\"data row4 col2\" >6.900000</td>\n",
       "                        <td id=\"T_6557dfba_30ad_11eb_b5c0_887873777c6frow4_col3\" class=\"data row4 col3\" >78</td>\n",
       "                        <td id=\"T_6557dfba_30ad_11eb_b5c0_887873777c6frow4_col4\" class=\"data row4 col4\" >9</td>\n",
       "                        <td id=\"T_6557dfba_30ad_11eb_b5c0_887873777c6frow4_col5\" class=\"data row4 col5\" >16</td>\n",
       "            </tr>\n",
       "            <tr>\n",
       "                        <th id=\"T_6557dfba_30ad_11eb_b5c0_887873777c6flevel0_row5\" class=\"row_heading level0 row5\" >67</th>\n",
       "                        <td id=\"T_6557dfba_30ad_11eb_b5c0_887873777c6frow5_col0\" class=\"data row5 col0\" >77</td>\n",
       "                        <td id=\"T_6557dfba_30ad_11eb_b5c0_887873777c6frow5_col1\" class=\"data row5 col1\" >276</td>\n",
       "                        <td id=\"T_6557dfba_30ad_11eb_b5c0_887873777c6frow5_col2\" class=\"data row5 col2\" >5.100000</td>\n",
       "                        <td id=\"T_6557dfba_30ad_11eb_b5c0_887873777c6frow5_col3\" class=\"data row5 col3\" >88</td>\n",
       "                        <td id=\"T_6557dfba_30ad_11eb_b5c0_887873777c6frow5_col4\" class=\"data row5 col4\" >7</td>\n",
       "                        <td id=\"T_6557dfba_30ad_11eb_b5c0_887873777c6frow5_col5\" class=\"data row5 col5\" >7</td>\n",
       "            </tr>\n",
       "            <tr>\n",
       "                        <th id=\"T_6557dfba_30ad_11eb_b5c0_887873777c6flevel0_row6\" class=\"row_heading level0 row6\" >90</th>\n",
       "                        <td id=\"T_6557dfba_30ad_11eb_b5c0_887873777c6frow6_col0\" class=\"data row6 col0\" >64</td>\n",
       "                        <td id=\"T_6557dfba_30ad_11eb_b5c0_887873777c6frow6_col1\" class=\"data row6 col1\" >253</td>\n",
       "                        <td id=\"T_6557dfba_30ad_11eb_b5c0_887873777c6frow6_col2\" class=\"data row6 col2\" >7.400000</td>\n",
       "                        <td id=\"T_6557dfba_30ad_11eb_b5c0_887873777c6frow6_col3\" class=\"data row6 col3\" >83</td>\n",
       "                        <td id=\"T_6557dfba_30ad_11eb_b5c0_887873777c6frow6_col4\" class=\"data row6 col4\" >7</td>\n",
       "                        <td id=\"T_6557dfba_30ad_11eb_b5c0_887873777c6frow6_col5\" class=\"data row6 col5\" >30</td>\n",
       "            </tr>\n",
       "            <tr>\n",
       "                        <th id=\"T_6557dfba_30ad_11eb_b5c0_887873777c6flevel0_row7\" class=\"row_heading level0 row7\" >123</th>\n",
       "                        <td id=\"T_6557dfba_30ad_11eb_b5c0_887873777c6frow7_col0\" class=\"data row7 col0\" >96</td>\n",
       "                        <td id=\"T_6557dfba_30ad_11eb_b5c0_887873777c6frow7_col1\" class=\"data row7 col1\" >167</td>\n",
       "                        <td id=\"T_6557dfba_30ad_11eb_b5c0_887873777c6frow7_col2\" class=\"data row7 col2\" >6.900000</td>\n",
       "                        <td id=\"T_6557dfba_30ad_11eb_b5c0_887873777c6frow7_col3\" class=\"data row7 col3\" >91</td>\n",
       "                        <td id=\"T_6557dfba_30ad_11eb_b5c0_887873777c6frow7_col4\" class=\"data row7 col4\" >9</td>\n",
       "                        <td id=\"T_6557dfba_30ad_11eb_b5c0_887873777c6frow7_col5\" class=\"data row7 col5\" >1</td>\n",
       "            </tr>\n",
       "    </tbody></table>"
      ],
      "text/plain": [
       "<pandas.io.formats.style.Styler at 0x1c1c46b1088>"
      ]
     },
     "execution_count": 6,
     "metadata": {},
     "output_type": "execute_result"
    }
   ],
   "source": [
    "(\n",
    "    airquality.sample(10).dropna()\n",
    "    .style.background_gradient(subset=['Solar.R', 'Temp'], cmap='YlOrBr')\n",
    "    .background_gradient(subset=['Ozone', 'Wind'], cmap='PuBu')\n",
    ")"
   ]
  },
  {
   "cell_type": "code",
   "execution_count": null,
   "metadata": {},
   "outputs": [],
   "source": []
  }
 ],
 "metadata": {
  "kernelspec": {
   "display_name": "Python 3",
   "language": "python",
   "name": "python3"
  },
  "language_info": {
   "codemirror_mode": {
    "name": "ipython",
    "version": 3
   },
   "file_extension": ".py",
   "mimetype": "text/x-python",
   "name": "python",
   "nbconvert_exporter": "python",
   "pygments_lexer": "ipython3",
   "version": "3.7.4"
  },
  "toc": {
   "base_numbering": 1,
   "nav_menu": {},
   "number_sections": true,
   "sideBar": true,
   "skip_h1_title": false,
   "title_cell": "Table of Contents",
   "title_sidebar": "Contents",
   "toc_cell": false,
   "toc_position": {},
   "toc_section_display": true,
   "toc_window_display": false
  },
  "varInspector": {
   "cols": {
    "lenName": 16,
    "lenType": 16,
    "lenVar": 40
   },
   "kernels_config": {
    "python": {
     "delete_cmd_postfix": "",
     "delete_cmd_prefix": "del ",
     "library": "var_list.py",
     "varRefreshCmd": "print(var_dic_list())"
    },
    "r": {
     "delete_cmd_postfix": ") ",
     "delete_cmd_prefix": "rm(",
     "library": "var_list.r",
     "varRefreshCmd": "cat(var_dic_list()) "
    }
   },
   "types_to_exclude": [
    "module",
    "function",
    "builtin_function_or_method",
    "instance",
    "_Feature"
   ],
   "window_display": false
  }
 },
 "nbformat": 4,
 "nbformat_minor": 2
}
