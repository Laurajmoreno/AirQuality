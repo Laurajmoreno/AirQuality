{
 "cells": [
  {
   "cell_type": "markdown",
   "metadata": {},
   "source": [
    "# EDA for Air quality dataset"
   ]
  },
  {
   "cell_type": "markdown",
   "metadata": {},
   "source": [
    "## 1. Import libraries"
   ]
  },
  {
   "cell_type": "code",
   "execution_count": 31,
   "metadata": {},
   "outputs": [],
   "source": [
    "import pandas as pd"
   ]
  },
  {
   "cell_type": "code",
   "execution_count": 32,
   "metadata": {},
   "outputs": [],
   "source": [
    "csv_path = \"airquality.csv\""
   ]
  },
  {
   "cell_type": "markdown",
   "metadata": {},
   "source": [
    "## 2. Load data"
   ]
  },
  {
   "cell_type": "code",
   "execution_count": 33,
   "metadata": {},
   "outputs": [],
   "source": [
    "with open(csv_path) as f:\r\n",
    "    airquality = pd.read_csv(f)"
   ]
  },
  {
   "cell_type": "markdown",
   "metadata": {},
   "source": [
    "## 3. Analysis of metadata"
   ]
  },
  {
   "cell_type": "markdown",
   "metadata": {},
   "source": [
    "**Action plan**\r\n",
    "1. Check column names\r\n",
    "2. Check dtypes"
   ]
  },
  {
   "cell_type": "code",
   "execution_count": 34,
   "metadata": {},
   "outputs": [
    {
     "data": {
      "text/html": "<style  type=\"text/css\" >\n#T_9f96c3bf_319d_11eb_a8ec_d07e35e8135drow0_col0,#T_9f96c3bf_319d_11eb_a8ec_d07e35e8135drow3_col2{\n            background-color:  #fff7fb;\n            color:  #000000;\n        }#T_9f96c3bf_319d_11eb_a8ec_d07e35e8135drow0_col1{\n            background-color:  #fff2b1;\n            color:  #000000;\n        }#T_9f96c3bf_319d_11eb_a8ec_d07e35e8135drow0_col2{\n            background-color:  #045e93;\n            color:  #f1f1f1;\n        }#T_9f96c3bf_319d_11eb_a8ec_d07e35e8135drow0_col3{\n            background-color:  #fffcd8;\n            color:  #000000;\n        }#T_9f96c3bf_319d_11eb_a8ec_d07e35e8135drow1_col0{\n            background-color:  #69a5cc;\n            color:  #000000;\n        }#T_9f96c3bf_319d_11eb_a8ec_d07e35e8135drow1_col1{\n            background-color:  #be4503;\n            color:  #f1f1f1;\n        }#T_9f96c3bf_319d_11eb_a8ec_d07e35e8135drow1_col2{\n            background-color:  #e7e3f0;\n            color:  #000000;\n        }#T_9f96c3bf_319d_11eb_a8ec_d07e35e8135drow1_col3,#T_9f96c3bf_319d_11eb_a8ec_d07e35e8135drow3_col1{\n            background-color:  #662506;\n            color:  #f1f1f1;\n        }#T_9f96c3bf_319d_11eb_a8ec_d07e35e8135drow2_col0{\n            background-color:  #f3edf5;\n            color:  #000000;\n        }#T_9f96c3bf_319d_11eb_a8ec_d07e35e8135drow2_col1{\n            background-color:  #812d05;\n            color:  #f1f1f1;\n        }#T_9f96c3bf_319d_11eb_a8ec_d07e35e8135drow2_col2,#T_9f96c3bf_319d_11eb_a8ec_d07e35e8135drow3_col0{\n            background-color:  #023858;\n            color:  #f1f1f1;\n        }#T_9f96c3bf_319d_11eb_a8ec_d07e35e8135drow2_col3,#T_9f96c3bf_319d_11eb_a8ec_d07e35e8135drow5_col1{\n            background-color:  #ffffe5;\n            color:  #000000;\n        }#T_9f96c3bf_319d_11eb_a8ec_d07e35e8135drow3_col3{\n            background-color:  #fb9225;\n            color:  #000000;\n        }#T_9f96c3bf_319d_11eb_a8ec_d07e35e8135drow4_col0{\n            background-color:  #89b1d4;\n            color:  #000000;\n        }#T_9f96c3bf_319d_11eb_a8ec_d07e35e8135drow4_col1{\n            background-color:  #c34802;\n            color:  #f1f1f1;\n        }#T_9f96c3bf_319d_11eb_a8ec_d07e35e8135drow4_col2{\n            background-color:  #d9d8ea;\n            color:  #000000;\n        }#T_9f96c3bf_319d_11eb_a8ec_d07e35e8135drow4_col3{\n            background-color:  #c84a02;\n            color:  #f1f1f1;\n        }#T_9f96c3bf_319d_11eb_a8ec_d07e35e8135drow5_col0{\n            background-color:  #f0eaf4;\n            color:  #000000;\n        }#T_9f96c3bf_319d_11eb_a8ec_d07e35e8135drow5_col2{\n            background-color:  #1278b4;\n            color:  #f1f1f1;\n        }#T_9f96c3bf_319d_11eb_a8ec_d07e35e8135drow5_col3{\n            background-color:  #fff7be;\n            color:  #000000;\n        }#T_9f96c3bf_319d_11eb_a8ec_d07e35e8135drow6_col0{\n            background-color:  #d3d4e7;\n            color:  #000000;\n        }#T_9f96c3bf_319d_11eb_a8ec_d07e35e8135drow6_col1{\n            background-color:  #943304;\n            color:  #f1f1f1;\n        }#T_9f96c3bf_319d_11eb_a8ec_d07e35e8135drow6_col2{\n            background-color:  #056ba7;\n            color:  #f1f1f1;\n        }#T_9f96c3bf_319d_11eb_a8ec_d07e35e8135drow6_col3{\n            background-color:  #feae3b;\n            color:  #000000;\n        }</style><table id=\"T_9f96c3bf_319d_11eb_a8ec_d07e35e8135d\" ><thead>    <tr>        <th class=\"col_heading level0 col0\" >Ozone</th>        <th class=\"col_heading level0 col1\" >Solar.R</th>        <th class=\"col_heading level0 col2\" >Wind</th>        <th class=\"col_heading level0 col3\" >Temp</th>        <th class=\"col_heading level0 col4\" >Month</th>        <th class=\"col_heading level0 col5\" >Day</th>    </tr></thead><tbody>\n                <tr>\n                                <td id=\"T_9f96c3bf_319d_11eb_a8ec_d07e35e8135drow0_col0\" class=\"data row0 col0\" >7.000000</td>\n                        <td id=\"T_9f96c3bf_319d_11eb_a8ec_d07e35e8135drow0_col1\" class=\"data row0 col1\" >49.000000</td>\n                        <td id=\"T_9f96c3bf_319d_11eb_a8ec_d07e35e8135drow0_col2\" class=\"data row0 col2\" >10.300000</td>\n                        <td id=\"T_9f96c3bf_319d_11eb_a8ec_d07e35e8135drow0_col3\" class=\"data row0 col3\" >69</td>\n                        <td id=\"T_9f96c3bf_319d_11eb_a8ec_d07e35e8135drow0_col4\" class=\"data row0 col4\" >9</td>\n                        <td id=\"T_9f96c3bf_319d_11eb_a8ec_d07e35e8135drow0_col5\" class=\"data row0 col5\" >24</td>\n            </tr>\n            <tr>\n                                <td id=\"T_9f96c3bf_319d_11eb_a8ec_d07e35e8135drow1_col0\" class=\"data row1 col0\" >91.000000</td>\n                        <td id=\"T_9f96c3bf_319d_11eb_a8ec_d07e35e8135drow1_col1\" class=\"data row1 col1\" >189.000000</td>\n                        <td id=\"T_9f96c3bf_319d_11eb_a8ec_d07e35e8135drow1_col2\" class=\"data row1 col2\" >4.600000</td>\n                        <td id=\"T_9f96c3bf_319d_11eb_a8ec_d07e35e8135drow1_col3\" class=\"data row1 col3\" >93</td>\n                        <td id=\"T_9f96c3bf_319d_11eb_a8ec_d07e35e8135drow1_col4\" class=\"data row1 col4\" >9</td>\n                        <td id=\"T_9f96c3bf_319d_11eb_a8ec_d07e35e8135drow1_col5\" class=\"data row1 col5\" >4</td>\n            </tr>\n            <tr>\n                                <td id=\"T_9f96c3bf_319d_11eb_a8ec_d07e35e8135drow2_col0\" class=\"data row2 col0\" >20.000000</td>\n                        <td id=\"T_9f96c3bf_319d_11eb_a8ec_d07e35e8135drow2_col1\" class=\"data row2 col1\" >223.000000</td>\n                        <td id=\"T_9f96c3bf_319d_11eb_a8ec_d07e35e8135drow2_col2\" class=\"data row2 col2\" >11.500000</td>\n                        <td id=\"T_9f96c3bf_319d_11eb_a8ec_d07e35e8135drow2_col3\" class=\"data row2 col3\" >68</td>\n                        <td id=\"T_9f96c3bf_319d_11eb_a8ec_d07e35e8135drow2_col4\" class=\"data row2 col4\" >9</td>\n                        <td id=\"T_9f96c3bf_319d_11eb_a8ec_d07e35e8135drow2_col5\" class=\"data row2 col5\" >30</td>\n            </tr>\n            <tr>\n                                <td id=\"T_9f96c3bf_319d_11eb_a8ec_d07e35e8135drow3_col0\" class=\"data row3 col0\" >168.000000</td>\n                        <td id=\"T_9f96c3bf_319d_11eb_a8ec_d07e35e8135drow3_col1\" class=\"data row3 col1\" >238.000000</td>\n                        <td id=\"T_9f96c3bf_319d_11eb_a8ec_d07e35e8135drow3_col2\" class=\"data row3 col2\" >3.400000</td>\n                        <td id=\"T_9f96c3bf_319d_11eb_a8ec_d07e35e8135drow3_col3\" class=\"data row3 col3\" >81</td>\n                        <td id=\"T_9f96c3bf_319d_11eb_a8ec_d07e35e8135drow3_col4\" class=\"data row3 col4\" >8</td>\n                        <td id=\"T_9f96c3bf_319d_11eb_a8ec_d07e35e8135drow3_col5\" class=\"data row3 col5\" >25</td>\n            </tr>\n            <tr>\n                                <td id=\"T_9f96c3bf_319d_11eb_a8ec_d07e35e8135drow4_col0\" class=\"data row4 col0\" >79.000000</td>\n                        <td id=\"T_9f96c3bf_319d_11eb_a8ec_d07e35e8135drow4_col1\" class=\"data row4 col1\" >187.000000</td>\n                        <td id=\"T_9f96c3bf_319d_11eb_a8ec_d07e35e8135drow4_col2\" class=\"data row4 col2\" >5.100000</td>\n                        <td id=\"T_9f96c3bf_319d_11eb_a8ec_d07e35e8135drow4_col3\" class=\"data row4 col3\" >87</td>\n                        <td id=\"T_9f96c3bf_319d_11eb_a8ec_d07e35e8135drow4_col4\" class=\"data row4 col4\" >7</td>\n                        <td id=\"T_9f96c3bf_319d_11eb_a8ec_d07e35e8135drow4_col5\" class=\"data row4 col5\" >19</td>\n            </tr>\n            <tr>\n                                <td id=\"T_9f96c3bf_319d_11eb_a8ec_d07e35e8135drow5_col0\" class=\"data row5 col0\" >23.000000</td>\n                        <td id=\"T_9f96c3bf_319d_11eb_a8ec_d07e35e8135drow5_col1\" class=\"data row5 col1\" >14.000000</td>\n                        <td id=\"T_9f96c3bf_319d_11eb_a8ec_d07e35e8135drow5_col2\" class=\"data row5 col2\" >9.200000</td>\n                        <td id=\"T_9f96c3bf_319d_11eb_a8ec_d07e35e8135drow5_col3\" class=\"data row5 col3\" >71</td>\n                        <td id=\"T_9f96c3bf_319d_11eb_a8ec_d07e35e8135drow5_col4\" class=\"data row5 col4\" >9</td>\n                        <td id=\"T_9f96c3bf_319d_11eb_a8ec_d07e35e8135drow5_col5\" class=\"data row5 col5\" >22</td>\n            </tr>\n            <tr>\n                                <td id=\"T_9f96c3bf_319d_11eb_a8ec_d07e35e8135drow6_col0\" class=\"data row6 col0\" >45.000000</td>\n                        <td id=\"T_9f96c3bf_319d_11eb_a8ec_d07e35e8135drow6_col1\" class=\"data row6 col1\" >212.000000</td>\n                        <td id=\"T_9f96c3bf_319d_11eb_a8ec_d07e35e8135drow6_col2\" class=\"data row6 col2\" >9.700000</td>\n                        <td id=\"T_9f96c3bf_319d_11eb_a8ec_d07e35e8135drow6_col3\" class=\"data row6 col3\" >79</td>\n                        <td id=\"T_9f96c3bf_319d_11eb_a8ec_d07e35e8135drow6_col4\" class=\"data row6 col4\" >8</td>\n                        <td id=\"T_9f96c3bf_319d_11eb_a8ec_d07e35e8135drow6_col5\" class=\"data row6 col5\" >24</td>\n            </tr>\n    </tbody></table>",
      "text/plain": "<pandas.io.formats.style.Styler at 0x1ac663521f0>"
     },
     "execution_count": 34,
     "metadata": {},
     "output_type": "execute_result"
    }
   ],
   "source": [
    "(\r\n",
    "    airquality.sample(10, random_state=42)\r\n",
    "    .dropna()\r\n",
    "    .style.hide_index()\r\n",
    "    .background_gradient(subset=['Solar.R', 'Temp'], cmap='YlOrBr')\r\n",
    "    .background_gradient(subset=['Ozone', 'Wind'], cmap='PuBu')\r\n",
    ")"
   ]
  },
  {
   "cell_type": "code",
   "execution_count": 35,
   "metadata": {},
   "outputs": [
    {
     "name": "stdout",
     "output_type": "stream",
     "text": [
      "<class 'pandas.core.frame.DataFrame'>\n",
      "RangeIndex: 153 entries, 0 to 152\n",
      "Data columns (total 6 columns):\n",
      " #   Column   Non-Null Count  Dtype  \n",
      "---  ------   --------------  -----  \n",
      " 0   Ozone    116 non-null    float64\n",
      " 1   Solar.R  146 non-null    float64\n",
      " 2   Wind     153 non-null    float64\n",
      " 3   Temp     153 non-null    int64  \n",
      " 4   Month    153 non-null    int64  \n",
      " 5   Day      153 non-null    int64  \n",
      "dtypes: float64(3), int64(3)\n",
      "memory usage: 7.3 KB\n"
     ]
    }
   ],
   "source": [
    "airquality.info()"
   ]
  },
  {
   "cell_type": "markdown",
   "metadata": {},
   "source": [
    "### Prueba\n",
    "\n",
    "Esto es una prueba realizar por GMR para ver si deja hacer push en un repositorio de otro usuario."
   ]
  },
  {
   "cell_type": "markdown",
   "metadata": {},
   "source": [
    "#### Background_gradient Pandas"
   ]
  },
  {
   "cell_type": "code",
   "execution_count": null,
   "metadata": {},
   "outputs": [],
   "source": []
  }
 ],
 "metadata": {
  "kernelspec": {
   "display_name": "Python 3",
   "language": "python",
   "name": "python3"
  },
  "language_info": {
   "codemirror_mode": {
    "name": "ipython",
    "version": 3
   },
   "file_extension": ".py",
   "mimetype": "text/x-python",
   "name": "python",
   "nbconvert_exporter": "python",
   "pygments_lexer": "ipython3",
   "version": "3.8.5"
  },
  "toc": {
   "base_numbering": 1,
   "nav_menu": {},
   "number_sections": true,
   "sideBar": true,
   "skip_h1_title": false,
   "title_cell": "Table of Contents",
   "title_sidebar": "Contents",
   "toc_cell": false,
   "toc_position": {},
   "toc_section_display": true,
   "toc_window_display": false
  },
  "varInspector": {
   "cols": {
    "lenName": 16,
    "lenType": 16,
    "lenVar": 40
   },
   "kernels_config": {
    "python": {
     "delete_cmd_postfix": "",
     "delete_cmd_prefix": "del ",
     "library": "var_list.py",
     "varRefreshCmd": "print(var_dic_list())"
    },
    "r": {
     "delete_cmd_postfix": ") ",
     "delete_cmd_prefix": "rm(",
     "library": "var_list.r",
     "varRefreshCmd": "cat(var_dic_list()) "
    }
   },
   "types_to_exclude": [
    "module",
    "function",
    "builtin_function_or_method",
    "instance",
    "_Feature"
   ],
   "window_display": false
  }
 },
 "nbformat": 4,
 "nbformat_minor": 2
}